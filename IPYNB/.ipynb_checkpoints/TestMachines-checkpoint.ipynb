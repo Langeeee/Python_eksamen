{
 "cells": [
  {
   "cell_type": "code",
   "execution_count": null,
   "metadata": {},
   "outputs": [],
   "source": [
    "import sys\n",
    "sys.path.append(\"..\")\n",
    "from Machine.TrainMachine import machine_trainer\n",
    "\n",
    "mt = machine_trainer()\n",
    "\n",
    "mt.make_and_save_mnist_model()\n",
    "\n",
    "verified_train_ds, verified_val_ds = mt.make_dataset(\"/home/jovyan/Python_eksamen/Images/CutImages/\")\n",
    "mt.train_and_save_model(verified_train_ds, verified_val_ds, \"verifiedCaptcha\", 51)\n",
    "\n",
    "scraped_train_ds, scraped_val_ds = mt.make_dataset(\"/home/jovyan/Python_eksamen/Images/CutImages/ScrapedCutImages/\")\n",
    "mt.train_and_save_model(scraped_train_ds, scraped_val_ds, \"scrapedCaptcha\", 10)"
   ]
  },
  {
   "cell_type": "code",
   "execution_count": null,
   "metadata": {},
   "outputs": [],
   "source": [
    "import sys\n",
    "sys.path.append(\"..\")\n",
    "from Machine.TrainMachine import machine_trainer\n",
    "\n",
    "mt = machine_trainer()\n",
    "\n",
    "keras_model = mt.get_keras_model()\n",
    "for i in range(10):\n",
    "    mt.check_images(keras_model, i)\n",
    "\n",
    "verified_captcha_model = mt.get_verified_captcha_model()\n",
    "for i in range(10):\n",
    "    mt.check_images(verified_captcha_model, i)\n",
    "\n",
    "scraped_captcha_model = mt.get_scraped_captcha_model()\n",
    "for i in range(10):\n",
    "    mt.check_images(scraped_captcha_model, i)"
   ]
  },
  {
   "cell_type": "code",
   "execution_count": null,
   "metadata": {},
   "outputs": [],
   "source": [
    "import sys\n",
    "sys.path.append(\"..\")\n",
    "from Machine.TrainMachine import machine_trainer\n",
    "\n",
    "mt = machine_trainer()\n",
    "\n",
    "verified_train_ds, verified_val_ds = mt.make_dataset(\"/home/jovyan/Python_eksamen/Images/CutImages/\")\n",
    "scraped_train_ds, scraped_val_ds = mt.make_dataset(\"/home/jovyan/Python_eksamen/Images/CutImages/ScrapedCutImages/\")\n",
    "mnist_train_ds, mnist_val_ds = mt.get_mnist_ds()\n",
    "\n",
    "mt.train_and_save_model(verified_train_ds, scraped_val_ds, \"VerifiedCaptchaTest\", 10)\n",
    "mt.train_and_save_model(scraped_train_ds, scraped_val_ds, \"VerifiedCaptchaTest\", 10)\n",
    "mt.train_and_save_model(mnist_train_ds, scraped_val_ds, \"VerifiedCaptchaTest\", 10)"
   ]
  }
 ],
 "metadata": {
  "kernelspec": {
   "display_name": "Python 3",
   "language": "python",
   "name": "python3"
  },
  "language_info": {
   "codemirror_mode": {
    "name": "ipython",
    "version": 3
   },
   "file_extension": ".py",
   "mimetype": "text/x-python",
   "name": "python",
   "nbconvert_exporter": "python",
   "pygments_lexer": "ipython3",
   "version": "3.7.6"
  }
 },
 "nbformat": 4,
 "nbformat_minor": 2
}
