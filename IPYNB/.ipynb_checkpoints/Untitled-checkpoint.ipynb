{
 "cells": [
  {
   "cell_type": "code",
   "execution_count": 1,
   "metadata": {},
   "outputs": [
    {
     "name": "stdout",
     "output_type": "stream",
     "text": [
      "\n",
      "[0, 1, 2, 3, 4, 5, 6, 7, 8, 9, 10, 11, 12, 13, 14, 15, 16, 17, 18, 19, 20, 21, 22, 23, 24, 25, 26, 27, 28, 29, 30, 31, 32, 33, 34, 35, 36, 37, 38, 39, 40, 41, 42, 43, 44, 45, 46, 47, 48, 49, 50, 51, 52, 53, 54, 55, 56, 57, 58, 59, 60, 61, 62, 63, 64, 65, 66, 67, 68, 69, 70, 71, 72, 73, 74, 75, 76, 77, 78, 79, 80, 81, 82, 83, 84, 85, 86, 87, 88, 89, 90, 91, 92, 93, 94, 95, 96, 97, 98, 99]\n",
      "OK\n"
     ]
    }
   ],
   "source": [
    "import sys\n",
    "sys.path.append(\"..\")\n",
    "from FileHandling.NumberGenerator import NumberGenerator \n",
    "from FileHandling.DownloadAndSave import DownloadAndSave\n",
    "n = NumberGenerator()\n",
    "num = n.generateSequence(100)\n",
    "\n",
    "#Testing img download\n",
    "print(num)\n",
    "d = DownloadAndSave()\n",
    "url = 'https://interactive-examples.mdn.mozilla.net/media/cc0-images/grapefruit-slice-332-332.jpg'\n",
    "#d.makeDownload(url, 'Images/' + str(num) + '.jpg')\n",
    "d.makeDownload(url, '../Images/1.jpg')"
   ]
  },
  {
   "cell_type": "code",
   "execution_count": 2,
   "metadata": {},
   "outputs": [
    {
     "name": "stdout",
     "output_type": "stream",
     "text": [
      "['0123456789 (10).png', '0123456789 (11).png', '0123456789 (12).png', '0123456789 (2).png', '0123456789 (3).png', '0123456789 (4).png', '0123456789 (5).png', '0123456789 (6).png', '0123456789 (7).png', '0123456789 (8).png', '0123456789 (9).png', '0123456789.png', '1.jpg', '1234567.jpg']\n",
      "['0123456789 (10)', '0123456789 (11)', '0123456789 (12)', '0123456789 (2)', '0123456789 (3)', '0123456789 (4)', '0123456789 (5)', '0123456789 (6)', '0123456789 (7)', '0123456789 (8)', '0123456789 (9)', '0123456789', '1', '1234567']\n",
      "\n",
      "Contours 15\n"
     ]
    }
   ],
   "source": [
    "#Testing getting list of files\n",
    "import sys\n",
    "sys.path.append(\"..\")\n",
    "from FileHandling.GetFiles import GetFiles\n",
    "from ImageHandling.ContourCutter import ContourCutter\n",
    "gf = GetFiles()\n",
    "listOfFiles = gf.getFilesAsList('/home/jovyan/Python_eksamen/Images')\n",
    "print(listOfFiles)\n",
    "listOfFileValues = gf.getFileValues(listOfFiles)\n",
    "print(listOfFileValues)\n",
    "\n",
    "cc = ContourCutter()\n",
    "for index, file in listOfFiles:\n",
    "    cc.contour(file, listOfFileValues[index], index)\n",
    "#print(cc.cutAndReturn(listOfFiles[1], listOfFileValues[1], 1))\n",
    "#cc.contour(listOfFiles[0], listOfFileValues[0], 0)"
   ]
  },
  {
   "cell_type": "code",
   "execution_count": 3,
   "metadata": {},
   "outputs": [
    {
     "name": "stdout",
     "output_type": "stream",
     "text": [
      "Found 7 files belonging to 9 classes.\n",
      "Using 6 files for training.\n",
      "Found 7 files belonging to 9 classes.\n",
      "Using 1 files for validation.\n",
      "['1', '2', '3', '4', '5', '6', '7', '8', '9']\n",
      "Epoch 1/5\n",
      "1/1 [==============================] - 1s 745ms/step - loss: 2.3111 - accuracy: 0.1667 - val_loss: 2.4414 - val_accuracy: 0.0000e+00\n",
      "Epoch 2/5\n",
      "1/1 [==============================] - 0s 88ms/step - loss: 2.2404 - accuracy: 0.1667 - val_loss: 2.5115 - val_accuracy: 0.0000e+00\n",
      "Epoch 3/5\n",
      "1/1 [==============================] - 0s 88ms/step - loss: 2.1946 - accuracy: 0.1667 - val_loss: 2.5671 - val_accuracy: 0.0000e+00\n",
      "Epoch 4/5\n",
      "1/1 [==============================] - 0s 59ms/step - loss: 2.1539 - accuracy: 0.1667 - val_loss: 2.6549 - val_accuracy: 0.0000e+00\n",
      "Epoch 5/5\n",
      "1/1 [==============================] - 0s 48ms/step - loss: 2.1092 - accuracy: 0.1667 - val_loss: 2.7629 - val_accuracy: 0.0000e+00\n"
     ]
    }
   ],
   "source": [
    "import sys\n",
    "sys.path.append(\"..\")\n",
    "from Machine.TrainMachine import machine_trainer\n",
    "\n",
    "mt = machine_trainer()\n",
    "\n",
    "train_ds, val_ds = mt.make_dataset()\n",
    "mt.train_model(train_ds, val_ds)"
   ]
  }
 ],
 "metadata": {
  "kernelspec": {
   "display_name": "Python 3",
   "language": "python",
   "name": "python3"
  },
  "language_info": {
   "codemirror_mode": {
    "name": "ipython",
    "version": 3
   },
   "file_extension": ".py",
   "mimetype": "text/x-python",
   "name": "python",
   "nbconvert_exporter": "python",
   "pygments_lexer": "ipython3",
   "version": "3.7.6"
  }
 },
 "nbformat": 4,
 "nbformat_minor": 2
}
