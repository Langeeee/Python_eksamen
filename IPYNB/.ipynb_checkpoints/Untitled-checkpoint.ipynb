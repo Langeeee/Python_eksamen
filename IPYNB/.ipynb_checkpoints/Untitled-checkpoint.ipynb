{
 "cells": [
  {
   "cell_type": "code",
   "execution_count": 1,
   "metadata": {},
   "outputs": [
    {
     "name": "stdout",
     "output_type": "stream",
     "text": [
      "\n",
      "[0, 1, 2, 3, 4, 5, 6, 7, 8, 9, 10, 11, 12, 13, 14, 15, 16, 17, 18, 19, 20, 21, 22, 23, 24, 25, 26, 27, 28, 29, 30, 31, 32, 33, 34, 35, 36, 37, 38, 39, 40, 41, 42, 43, 44, 45, 46, 47, 48, 49, 50, 51, 52, 53, 54, 55, 56, 57, 58, 59, 60, 61, 62, 63, 64, 65, 66, 67, 68, 69, 70, 71, 72, 73, 74, 75, 76, 77, 78, 79, 80, 81, 82, 83, 84, 85, 86, 87, 88, 89, 90, 91, 92, 93, 94, 95, 96, 97, 98, 99]\n",
      "OK\n"
     ]
    }
   ],
   "source": [
    "import sys\n",
    "sys.path.append(\"..\")\n",
    "from FileHandling.NumberGenerator import NumberGenerator \n",
    "from FileHandling.DownloadAndSave import DownloadAndSave\n",
    "n = NumberGenerator()\n",
    "num = n.generateSequence(100)\n",
    "\n",
    "#Testing img download\n",
    "print(num)\n",
    "d = DownloadAndSave()\n",
    "url = 'https://interactive-examples.mdn.mozilla.net/media/cc0-images/grapefruit-slice-332-332.jpg'\n",
    "#d.makeDownload(url, 'Images/' + str(num) + '.jpg')\n"
   ]
  },
  {
   "cell_type": "code",
   "execution_count": 1,
   "metadata": {},
   "outputs": [
    {
     "name": "stdout",
     "output_type": "stream",
     "text": [
      "['0123456789 (2).png', '0123456789 (3).png', '0123456789 (4).png', '0123456789 (5).png', '0123456789.png']\n",
      "['0123456789 (2)', '0123456789 (3)', '0123456789 (4)', '0123456789 (5)', '0123456789']\n",
      "\n",
      "Contours 1\n",
      "/home/jovyan/Python_eksamen/Images/CutImages/0/0(0).jpgarea16744.0\n",
      "Contours 1\n",
      "/home/jovyan/Python_eksamen/Images/CutImages/0/0(1).jpgarea16744.0\n",
      "Contours 1\n",
      "/home/jovyan/Python_eksamen/Images/CutImages/0/0(2).jpgarea16744.0\n",
      "Contours 24\n",
      "/home/jovyan/Python_eksamen/Images/CutImages/0/0(3).jpgarea16744.0\n",
      "/home/jovyan/Python_eksamen/Images/CutImages/0/0(3).jpgarea2.0\n",
      "/home/jovyan/Python_eksamen/Images/CutImages/0/0(3).jpgarea12.0\n",
      "/home/jovyan/Python_eksamen/Images/CutImages/1/1(3).jpgarea15.5\n",
      "/home/jovyan/Python_eksamen/Images/CutImages/2/2(3).jpgarea22.5\n",
      "/home/jovyan/Python_eksamen/Images/CutImages/3/3(3).jpgarea34.5\n",
      "/home/jovyan/Python_eksamen/Images/CutImages/4/4(3).jpgarea2.0\n",
      "/home/jovyan/Python_eksamen/Images/CutImages/4/4(3).jpgarea4.0\n",
      "/home/jovyan/Python_eksamen/Images/CutImages/4/4(3).jpgarea13.0\n",
      "/home/jovyan/Python_eksamen/Images/CutImages/5/5(3).jpgarea7.0\n",
      "/home/jovyan/Python_eksamen/Images/CutImages/5/5(3).jpgarea33.0\n",
      "/home/jovyan/Python_eksamen/Images/CutImages/6/6(3).jpgarea7.0\n",
      "/home/jovyan/Python_eksamen/Images/CutImages/6/6(3).jpgarea5.5\n",
      "/home/jovyan/Python_eksamen/Images/CutImages/6/6(3).jpgarea11.5\n",
      "/home/jovyan/Python_eksamen/Images/CutImages/7/7(3).jpgarea17.0\n",
      "/home/jovyan/Python_eksamen/Images/CutImages/8/8(3).jpgarea11.5\n",
      "/home/jovyan/Python_eksamen/Images/CutImages/9/9(3).jpgarea4.0\n",
      "/home/jovyan/Python_eksamen/Images/CutImages/9/9(3).jpgarea15.0\n",
      "/home/jovyan/Python_eksamen/Images/CutImages/ / (3).jpgarea9.0\n",
      "/home/jovyan/Python_eksamen/Images/CutImages/ / (3).jpgarea4.0\n",
      "/home/jovyan/Python_eksamen/Images/CutImages/ / (3).jpgarea37.5\n",
      "/home/jovyan/Python_eksamen/Images/CutImages/(/((3).jpgarea5.5\n",
      "/home/jovyan/Python_eksamen/Images/CutImages/(/((3).jpgarea13.0\n",
      "/home/jovyan/Python_eksamen/Images/CutImages/5/5(3).jpgarea25.5\n",
      "Contours 1\n",
      "/home/jovyan/Python_eksamen/Images/CutImages/0/0(4).jpgarea16744.0\n"
     ]
    }
   ],
   "source": [
    "#Testing getting list of files\n",
    "import sys\n",
    "sys.path.append(\"..\")\n",
    "from FileHandling.GetFiles import GetFiles\n",
    "from ImageHandling.ContourCutter import ContourCutter\n",
    "gf = GetFiles()\n",
    "listOfFiles = gf.getFilesAsList('/home/jovyan/Python_eksamen/Images')\n",
    "print(listOfFiles)\n",
    "listOfFileValues = gf.getFileValues(listOfFiles)\n",
    "print(listOfFileValues)\n",
    "\n",
    "cc = ContourCutter()\n",
    "for index, file in enumerate(listOfFiles):\n",
    "    cc.contour(file, listOfFileValues[index], index)\n",
    "#print(cc.cutAndReturn(listOfFiles[1], listOfFileValues[1], 1))\n",
    "#cc.contour(listOfFiles[0], listOfFileValues[0], 0)"
   ]
  },
  {
   "cell_type": "code",
   "execution_count": null,
   "metadata": {},
   "outputs": [],
   "source": [
    "import sys\n",
    "sys.path.append(\"..\")\n",
    "from Machine.TrainMachine import machine_trainer\n",
    "\n",
    "mt = machine_trainer()\n",
    "\n",
    "train_ds, val_ds = mt.make_dataset()\n",
    "mt.train_model(train_ds, val_ds)"
   ]
  },
  {
   "cell_type": "code",
   "execution_count": null,
   "metadata": {},
   "outputs": [],
   "source": [
    "import os\n",
    "import cv2\n",
    "import numpy as np\n",
    "import matplotlib as plt\n",
    "import tensorflow as tf\n",
    "from tensorflow import keras\n",
    "# Helper libraries\n",
    "\n",
    "\n",
    "mnist = tf.keras.datasets.mnist\n",
    "(x_train, y_train), (x_test, y_test) = mnist.load_data()\n",
    "\n",
    "x_train = tf.keras.utils.normalize(x_train, axis=1)\n",
    "x_test = tf.keras.utils.normalize(x_test, axis=1)\n",
    "\n",
    "\n",
    "model = tf.keras.models.Sequential()\n",
    "model.add(tf.keras.layers.Flatten(input_shape=(28, 28)))\n",
    "model.add(tf.keras.layers.Dense(128, activation='relu'))\n",
    "model.add(tf.keras.layers.Dense(128, activation='relu'))\n",
    "model.add(tf.keras.layers.Dense(10, activation='softmax'))\n",
    "\n",
    "\n",
    "model.compile(optimizer='adam', loss='sparse_categorical_crossentropy', metrics=['accuracy']\n",
    "             )\n",
    "model.fit(x_train, y_train, epochs = 3)\n",
    "\n",
    "\n",
    "model.save('handwritten.model')\n",
    "\n",
    "model = tf.keras.models.load_model('handwritten.model')\n",
    "\n",
    "loss, accuracy = model.evaluate(x_test, y_test)\n",
    "\n",
    "print(loss)\n",
    "print(accuracy)\n",
    "\n",
    "\n",
    "\n"
   ]
  },
  {
   "cell_type": "code",
   "execution_count": null,
   "metadata": {},
   "outputs": [],
   "source": [
    "import tensorflow as tf\n",
    "tf.__version__"
   ]
  },
  {
   "cell_type": "code",
   "execution_count": null,
   "metadata": {},
   "outputs": [],
   "source": [
    "model = tf.keras.models.load_model('handwritten.model')\n",
    "\n",
    "loss, accuracy = model.evaluate(x_test, y_test)\n",
    "\n",
    "image_number = 1\n",
    "while os.path.isfile(f\"/home/jovyan/Python_eksamen/Images/CutImages/\"{image_number}.png):\n",
    "    try:\n",
    "        img = cv2.imread(f\"/home/jovyan/Python_eksamen/Images/CutImages/\"{image_number}.png)[:,:,0]\n",
    "        img = np.invert(np.array([img]))\n",
    "        prediction = model.predict(img)\n",
    "        print(f\"this digit is probably a {np.argmax(prediction)}\")\n",
    "        plt.imshow(img0[], cmap=plt.cm.binary)\n",
    "        plt.show()\n",
    "              "
   ]
  },
  {
   "cell_type": "code",
   "execution_count": null,
   "metadata": {},
   "outputs": [],
   "source": []
  }
 ],
 "metadata": {
  "kernelspec": {
   "display_name": "Python 3",
   "language": "python",
   "name": "python3"
  },
  "language_info": {
   "codemirror_mode": {
    "name": "ipython",
    "version": 3
   },
   "file_extension": ".py",
   "mimetype": "text/x-python",
   "name": "python",
   "nbconvert_exporter": "python",
   "pygments_lexer": "ipython3",
   "version": "3.7.6"
  }
 },
 "nbformat": 4,
 "nbformat_minor": 2
}
