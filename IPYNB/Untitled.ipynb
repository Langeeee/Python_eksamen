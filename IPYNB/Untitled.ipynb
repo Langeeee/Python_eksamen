{
 "cells": [
  {
   "cell_type": "code",
   "execution_count": 8,
   "metadata": {},
   "outputs": [
    {
     "name": "stdout",
     "output_type": "stream",
     "text": [
      "\n",
      "[0, 1, 2, 3, 4, 5, 6, 7, 8, 9, 10, 11, 12, 13, 14, 15, 16, 17, 18, 19, 20, 21, 22, 23, 24, 25, 26, 27, 28, 29, 30, 31, 32, 33, 34, 35, 36, 37, 38, 39, 40, 41, 42, 43, 44, 45, 46, 47, 48, 49, 50, 51, 52, 53, 54, 55, 56, 57, 58, 59, 60, 61, 62, 63, 64, 65, 66, 67, 68, 69, 70, 71, 72, 73, 74, 75, 76, 77, 78, 79, 80, 81, 82, 83, 84, 85, 86, 87, 88, 89, 90, 91, 92, 93, 94, 95, 96, 97, 98, 99]\n",
      "OK\n"
     ]
    }
   ],
   "source": [
    "import sys\n",
    "sys.path.append(\"..\")\n",
    "from FileHandling.NumberGenerator import NumberGenerator \n",
    "from FileHandling.DownloadAndSave import DownloadAndSave\n",
    "n = NumberGenerator()\n",
    "num = n.generateSequence(100)\n",
    "\n",
    "#Testing img download\n",
    "print(num)\n",
    "d = DownloadAndSave()\n",
    "url = 'https://interactive-examples.mdn.mozilla.net/media/cc0-images/grapefruit-slice-332-332.jpg'\n",
    "#d.makeDownload(url, 'Images/' + str(num) + '.jpg')\n",
    "d.makeDownload(url, '../Images/1.jpg')"
   ]
  },
  {
   "cell_type": "code",
   "execution_count": 1,
   "metadata": {},
   "outputs": [
    {
     "name": "stdout",
     "output_type": "stream",
     "text": [
      "['0.jpg', '1.jpg', '2.jpg']\n",
      "['0', '1', '2']\n",
      "\n",
      "Contours 9\n"
     ]
    },
    {
     "data": {
      "image/png": "[encoded data removed]",
      "text/plain": [
       "<Figure size 432x288 with 1 Axes>"
      ]
     },
     "metadata": {
      "needs_background": "light"
     },
     "output_type": "display_data"
    },
    {
     "data": {
      "text/plain": [
       "<Figure size 432x288 with 0 Axes>"
      ]
     },
     "metadata": {},
     "output_type": "display_data"
    }
   ],
   "source": [
    "#Testing getting list of files\n",
    "import sys\n",
    "sys.path.append(\"..\")\n",
    "from FileHandling.GetFiles import GetFiles\n",
    "from ImageHandling.ContourCutter import ContourCutter\n",
    "gf = GetFiles()\n",
    "listOfFiles = gf.getFilesAsList('/home/jovyan/Python_eksamen/Images')\n",
    "print(listOfFiles)\n",
    "listOfFileValues = gf.getFileValues(listOfFiles)\n",
    "print(listOfFileValues)\n",
    "\n",
    "cc = ContourCutter()\n",
    "#print(cc.cutAndReturn(listOfFiles[1], listOfFileValues[1], 1))\n",
    "cc.contour(listOfFiles[2], 0)"
   ]
  },
  {
   "cell_type": "code",
   "execution_count": null,
   "metadata": {},
   "outputs": [],
   "source": []
  },
  {
   "cell_type": "code",
   "execution_count": null,
   "metadata": {},
   "outputs": [],
   "source": []
  },
  {
   "cell_type": "code",
   "execution_count": null,
   "metadata": {},
   "outputs": [],
   "source": []
  }
 ],
 "metadata": {
  "kernelspec": {
   "display_name": "Python 3",
   "language": "python",
   "name": "python3"
  },
  "language_info": {
   "codemirror_mode": {
    "name": "ipython",
    "version": 3
   },
   "file_extension": ".py",
   "mimetype": "text/x-python",
   "name": "python",
   "nbconvert_exporter": "python",
   "pygments_lexer": "ipython3",
   "version": "3.7.6"
  }
 },
 "nbformat": 4,
 "nbformat_minor": 4
}
