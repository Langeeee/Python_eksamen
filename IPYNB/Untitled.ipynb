{
 "cells": [
  {
   "cell_type": "code",
   "execution_count": 1,
   "metadata": {},
   "outputs": [
    {
     "name": "stdout",
     "output_type": "stream",
     "text": [
      "\n",
      "[0, 1, 2, 3, 4, 5, 6, 7, 8, 9, 10, 11, 12, 13, 14, 15, 16, 17, 18, 19, 20, 21, 22, 23, 24, 25, 26, 27, 28, 29, 30, 31, 32, 33, 34, 35, 36, 37, 38, 39, 40, 41, 42, 43, 44, 45, 46, 47, 48, 49, 50, 51, 52, 53, 54, 55, 56, 57, 58, 59, 60, 61, 62, 63, 64, 65, 66, 67, 68, 69, 70, 71, 72, 73, 74, 75, 76, 77, 78, 79, 80, 81, 82, 83, 84, 85, 86, 87, 88, 89, 90, 91, 92, 93, 94, 95, 96, 97, 98, 99]\n",
      "OK\n"
     ]
    }
   ],
   "source": [
    "import sys\n",
    "sys.path.append(\"..\")\n",
    "from FileHandling.NumberGenerator import NumberGenerator \n",
    "from FileHandling.DownloadAndSave import DownloadAndSave\n",
    "n = NumberGenerator()\n",
    "num = n.generateSequence(100)\n",
    "\n",
    "#Testing img download\n",
    "print(num)\n",
    "d = DownloadAndSave()\n",
    "url = 'https://interactive-examples.mdn.mozilla.net/media/cc0-images/grapefruit-slice-332-332.jpg'\n",
    "#d.makeDownload(url, 'Images/' + str(num) + '.jpg')\n",
    "d.makeDownload(url, '../Images/1.jpg')"
   ]
  },
  {
   "cell_type": "code",
   "execution_count": 5,
   "metadata": {},
   "outputs": [
    {
     "name": "stdout",
     "output_type": "stream",
     "text": [
      "['0123456789 (10).png', '0123456789 (11).png', '0123456789 (12).png', '0123456789 (2).png', '0123456789 (3).png', '0123456789 (4).png', '0123456789 (5).png', '0123456789 (6).png', '0123456789 (7).png', '0123456789 (8).png', '0123456789 (9).png', '0123456789.png', '1.jpg', '1234567.jpg']\n",
      "['0123456789 (10)', '0123456789 (11)', '0123456789 (12)', '0123456789 (2)', '0123456789 (3)', '0123456789 (4)', '0123456789 (5)', '0123456789 (6)', '0123456789 (7)', '0123456789 (8)', '0123456789 (9)', '0123456789', '1', '1234567']\n",
      "\n",
      "Contours 15\n",
      "Contours 8\n",
      "Contours 13\n",
      "Contours 18\n",
      "Contours 25\n",
      "Contours 13\n",
      "Contours 15\n",
      "Contours 31\n",
      "Contours 16\n",
      "Contours 25\n",
      "Contours 11\n",
      "Contours 19\n",
      "Contours 88\n"
     ]
    },
    {
     "ename": "IndexError",
     "evalue": "string index out of range",
     "output_type": "error",
     "traceback": [
      "\u001b[0;31m---------------------------------------------------------------------------\u001b[0m",
      "\u001b[0;31mIndexError\u001b[0m                                Traceback (most recent call last)",
      "\u001b[0;32m<ipython-input-5-b0571706c489>\u001b[0m in \u001b[0;36m<module>\u001b[0;34m\u001b[0m\n\u001b[1;32m     12\u001b[0m \u001b[0mcc\u001b[0m \u001b[0;34m=\u001b[0m \u001b[0mContourCutter\u001b[0m\u001b[0;34m(\u001b[0m\u001b[0;34m)\u001b[0m\u001b[0;34m\u001b[0m\u001b[0;34m\u001b[0m\u001b[0m\n\u001b[1;32m     13\u001b[0m \u001b[0;32mfor\u001b[0m \u001b[0mindex\u001b[0m\u001b[0;34m,\u001b[0m \u001b[0mfile\u001b[0m \u001b[0;32min\u001b[0m \u001b[0menumerate\u001b[0m\u001b[0;34m(\u001b[0m\u001b[0mlistOfFiles\u001b[0m\u001b[0;34m)\u001b[0m\u001b[0;34m:\u001b[0m\u001b[0;34m\u001b[0m\u001b[0;34m\u001b[0m\u001b[0m\n\u001b[0;32m---> 14\u001b[0;31m     \u001b[0mcc\u001b[0m\u001b[0;34m.\u001b[0m\u001b[0mcontour\u001b[0m\u001b[0;34m(\u001b[0m\u001b[0mfile\u001b[0m\u001b[0;34m,\u001b[0m \u001b[0mlistOfFileValues\u001b[0m\u001b[0;34m[\u001b[0m\u001b[0mindex\u001b[0m\u001b[0;34m]\u001b[0m\u001b[0;34m,\u001b[0m \u001b[0mindex\u001b[0m\u001b[0;34m)\u001b[0m\u001b[0;34m\u001b[0m\u001b[0;34m\u001b[0m\u001b[0m\n\u001b[0m\u001b[1;32m     15\u001b[0m \u001b[0;31m#print(cc.cutAndReturn(listOfFiles[1], listOfFileValues[1], 1))\u001b[0m\u001b[0;34m\u001b[0m\u001b[0;34m\u001b[0m\u001b[0;34m\u001b[0m\u001b[0m\n\u001b[1;32m     16\u001b[0m \u001b[0;31m#cc.contour(listOfFiles[0], listOfFileValues[0], 0)\u001b[0m\u001b[0;34m\u001b[0m\u001b[0;34m\u001b[0m\u001b[0;34m\u001b[0m\u001b[0m\n",
      "\u001b[0;32m~/Python_eksamen/ImageHandling/ContourCutter.py\u001b[0m in \u001b[0;36mcontour\u001b[0;34m(self, image, image_value, iteration)\u001b[0m\n\u001b[1;32m     47\u001b[0m                 \u001b[0mroi\u001b[0m \u001b[0;34m=\u001b[0m \u001b[0mimg\u001b[0m\u001b[0;34m[\u001b[0m\u001b[0my\u001b[0m\u001b[0;34m:\u001b[0m \u001b[0my\u001b[0m \u001b[0;34m+\u001b[0m \u001b[0mheight\u001b[0m\u001b[0;34m,\u001b[0m \u001b[0mx\u001b[0m\u001b[0;34m:\u001b[0m \u001b[0mx\u001b[0m \u001b[0;34m+\u001b[0m \u001b[0mwidth\u001b[0m\u001b[0;34m]\u001b[0m\u001b[0;34m\u001b[0m\u001b[0;34m\u001b[0m\u001b[0m\n\u001b[1;32m     48\u001b[0m                 \u001b[0mresized_image\u001b[0m \u001b[0;34m=\u001b[0m \u001b[0mcv2\u001b[0m\u001b[0;34m.\u001b[0m\u001b[0mresize\u001b[0m\u001b[0;34m(\u001b[0m\u001b[0mroi\u001b[0m\u001b[0;34m,\u001b[0m \u001b[0;34m(\u001b[0m\u001b[0;36m28\u001b[0m\u001b[0;34m,\u001b[0m \u001b[0;36m28\u001b[0m\u001b[0;34m)\u001b[0m\u001b[0;34m)\u001b[0m\u001b[0;34m\u001b[0m\u001b[0;34m\u001b[0m\u001b[0m\n\u001b[0;32m---> 49\u001b[0;31m                 \u001b[0mcv2\u001b[0m\u001b[0;34m.\u001b[0m\u001b[0mimwrite\u001b[0m\u001b[0;34m(\u001b[0m\u001b[0;34m\"/home/jovyan/Python_eksamen/Images/CutImages/\"\u001b[0m\u001b[0;34m+\u001b[0m\u001b[0mstr\u001b[0m\u001b[0;34m(\u001b[0m\u001b[0mimage_value\u001b[0m\u001b[0;34m[\u001b[0m\u001b[0mcount\u001b[0m\u001b[0;34m]\u001b[0m\u001b[0;34m)\u001b[0m\u001b[0;34m+\u001b[0m\u001b[0;34m\"/\"\u001b[0m\u001b[0;34m+\u001b[0m\u001b[0mstr\u001b[0m\u001b[0;34m(\u001b[0m\u001b[0mimage_value\u001b[0m\u001b[0;34m[\u001b[0m\u001b[0mcount\u001b[0m\u001b[0;34m]\u001b[0m\u001b[0;34m)\u001b[0m\u001b[0;34m+\u001b[0m\u001b[0;34m\"(\"\u001b[0m\u001b[0;34m+\u001b[0m\u001b[0mstr\u001b[0m\u001b[0;34m(\u001b[0m\u001b[0miteration\u001b[0m\u001b[0;34m)\u001b[0m\u001b[0;34m+\u001b[0m\u001b[0;34m\").jpg\"\u001b[0m\u001b[0;34m,\u001b[0m \u001b[0mresized_image\u001b[0m\u001b[0;34m)\u001b[0m\u001b[0;34m\u001b[0m\u001b[0;34m\u001b[0m\u001b[0m\n\u001b[0m\u001b[1;32m     50\u001b[0m                 \u001b[0mcount\u001b[0m\u001b[0;34m+=\u001b[0m\u001b[0;36m1\u001b[0m\u001b[0;34m\u001b[0m\u001b[0;34m\u001b[0m\u001b[0m\n\u001b[1;32m     51\u001b[0m \u001b[0;34m\u001b[0m\u001b[0m\n",
      "\u001b[0;31mIndexError\u001b[0m: string index out of range"
     ]
    }
   ],
   "source": [
    "#Testing getting list of files\n",
    "import sys\n",
    "sys.path.append(\"..\")\n",
    "from FileHandling.GetFiles import GetFiles\n",
    "from ImageHandling.ContourCutter import ContourCutter\n",
    "gf = GetFiles()\n",
    "listOfFiles = gf.getFilesAsList('/home/jovyan/Python_eksamen/Images')\n",
    "print(listOfFiles)\n",
    "listOfFileValues = gf.getFileValues(listOfFiles)\n",
    "print(listOfFileValues)\n",
    "\n",
    "cc = ContourCutter()\n",
    "for index, file in enumerate(listOfFiles):\n",
    "    cc.contour(file, listOfFileValues[index], index)\n",
    "#print(cc.cutAndReturn(listOfFiles[1], listOfFileValues[1], 1))\n",
    "#cc.contour(listOfFiles[0], listOfFileValues[0], 0)"
   ]
  },
  {
   "cell_type": "code",
   "execution_count": 6,
   "metadata": {},
   "outputs": [
    {
     "name": "stdout",
     "output_type": "stream",
     "text": [
      "Found 35 files belonging to 9 classes.\n",
      "Using 28 files for training.\n",
      "Found 35 files belonging to 9 classes.\n",
      "Using 7 files for validation.\n",
      "['1', '2', '3', '4', '5', '6', '7', '8', '9']\n",
      "Epoch 1/5\n",
      "1/1 [==============================] - 1s 622ms/step - loss: 2.2749 - accuracy: 0.1786 - val_loss: 2.2972 - val_accuracy: 0.1429\n",
      "Epoch 2/5\n",
      "1/1 [==============================] - 0s 82ms/step - loss: 2.2415 - accuracy: 0.2143 - val_loss: 2.2880 - val_accuracy: 0.1429\n",
      "Epoch 3/5\n",
      "1/1 [==============================] - 0s 91ms/step - loss: 2.2073 - accuracy: 0.2143 - val_loss: 2.2794 - val_accuracy: 0.1429\n",
      "Epoch 4/5\n",
      "1/1 [==============================] - 0s 92ms/step - loss: 2.1689 - accuracy: 0.2143 - val_loss: 2.2670 - val_accuracy: 0.1429\n",
      "Epoch 5/5\n",
      "1/1 [==============================] - 0s 74ms/step - loss: 2.1272 - accuracy: 0.2143 - val_loss: 2.2542 - val_accuracy: 0.1429\n"
     ]
    }
   ],
   "source": [
    "import sys\n",
    "sys.path.append(\"..\")\n",
    "from Machine.TrainMachine import machine_trainer\n",
    "\n",
    "mt = machine_trainer()\n",
    "\n",
    "train_ds, val_ds = mt.make_dataset()\n",
    "mt.train_model(train_ds, val_ds)"
   ]
  }
 ],
 "metadata": {
  "kernelspec": {
   "display_name": "Python 3",
   "language": "python",
   "name": "python3"
  },
  "language_info": {
   "codemirror_mode": {
    "name": "ipython",
    "version": 3
   },
   "file_extension": ".py",
   "mimetype": "text/x-python",
   "name": "python",
   "nbconvert_exporter": "python",
   "pygments_lexer": "ipython3",
   "version": "3.7.6"
  }
 },
 "nbformat": 4,
 "nbformat_minor": 2
}
