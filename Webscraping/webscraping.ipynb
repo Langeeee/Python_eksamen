{
 "cells": [
  {
   "cell_type": "code",
   "execution_count": 5,
   "metadata": {},
   "outputs": [],
   "source": [
    "from selenium import webdriver\n"
   ]
  },
  {
   "cell_type": "code",
   "execution_count": 9,
   "metadata": {},
   "outputs": [
    {
     "name": "stdout",
     "output_type": "stream",
     "text": [
      "<!DOCTYPE html>\n",
      "<!--[if IE 8 ]><html class=\"ie ie8\" lang=\"en\"> <![endif]-->\n",
      "<!--[if IE 9 ]><html class=\"ie ie9\" lang=\"en\"> <![endif]-->\n",
      "<!--[if (gte IE 9)|!(IE)]><!-->\n",
      "<html lang=\"en\">\n",
      " <!--<![endif]-->\n",
      " <head>\n",
      "  <meta charset=\"utf-8\"/>\n",
      "  <title>\n",
      "   Fake Captcha - Generate Fake Captchas instantly for free\n",
      "  </title>\n",
      "  <meta content=\"\" name=\"description\"/>\n",
      "  <meta content=\"Sites Done Right, LLC\" name=\"author\"/>\n",
      "  <meta content=\"width=device-width, initial-scale=1, maximum-scale=1\" name=\"viewport\"/>\n",
      "  <link href=\"https://s3.amazonaws.com/i.fakecaptcha.com/assets/css/complete.css\" rel=\"stylesheet\"/>\n",
      "  <link href=\"https://fonts.googleapis.com/css?family=Lato:300,700,900,300italic\" rel=\"stylesheet\"/>\n",
      "  <link href=\"https://s3.amazonaws.com/i.fakecaptcha.com/assets/fake.png\" rel=\"shortcut icon\">\n",
      "   <!--[if IE]>\n",
      "  <script src=\"https://html5shiv.googlecode.com/svn/trunk/html5.js\"></script>\n",
      "  <![endif]-->\n",
      "   <script src=\"https://ajax.googleapis.com/ajax/libs/jquery/1.10.2/jquery.min.js\">\n",
      "   </script>\n",
      "  </link>\n",
      " </head>\n",
      " <body data-offset=\"83\" data-spy=\"scroll\" data-target=\".navbar\" id=\"home\">\n",
      "  <a class=\"scrollup\" href=\"#\">\n",
      "   <span aria-hidden=\"true\" data-icon=\"\">\n",
      "   </span>\n",
      "  </a>\n",
      "  <section id=\"header\">\n",
      "   <div class=\"navbar\">\n",
      "    <div class=\"container\">\n",
      "     <a class=\"navbar-toggle btn btn-large animated fadeInRight\" data-target=\".navbar-responsive-collapse\" data-toggle=\"collapse\" href=\"#\">\n",
      "      <span aria-hidden=\"true\" data-icon=\"\">\n",
      "      </span>\n",
      "     </a>\n",
      "     <a class=\"navbar\n"
     ]
    }
   ],
   "source": [
    "import bs4\n",
    "import requests\n",
    "import os\n",
    "import sys\n",
    "import shutil\n",
    "\n",
    "r = requests.get('https://fakecaptcha.com/')\n",
    "r.raise_for_status()\n",
    "soup = bs4.BeautifulSoup(r.text, 'html.parser')\n",
    "\n",
    "print(soup.prettify()[:1500])"
   ]
  },
  {
   "cell_type": "code",
   "execution_count": 1,
   "metadata": {},
   "outputs": [
    {
     "name": "stdout",
     "output_type": "stream",
     "text": [
      "OK\n",
      "/9j/4AAQSkZJRgABAQEASABIAAD/2wBDABYPERMRDhYTEhMZFxYaITckIR4eIUQwMyg3UEZUU09GTUxYY39sWF54X0xNbpZweIOHjpCOVmqcp5uKpn+Ljon/2wBDARcZGSEdIUEkJEGJW01biYmJiYmJiYmJiYmJiYmJiYmJiYmJiYmJiYmJiYmJiYmJiYmJiYmJiYmJiYmJiYmJiYn/wAARCAA5ASwDASIAAhEBAxEB/8QAGQABAQEBAQEAAAAAAAAAAAAAAAUEBgMB/8QAKhABAAICAQIFBAEFAAAAAAAAAAECAwQRBRIGEyExUSJBYYEVFDJCccH/xAAUAQEAAAAAAAAAAAAAAAAAAAAA/8QAFBEBAAAAAAAAAAAAAAAAAAAAAP/aAAwDAQACEQMRAD8A64AAAAAAAAAAAAAAAAAAAAAAAAAAAAAAAAAAAAAAAATM27tZtu+toY6T5fpfJk9on4fP6/b1MtadQxU8u88Rlxz6RP5BUGLqd9nHp5M2resTSk24mOeWDw3kzb+Gd7Yy2tkmZrFYn0j9As5MuPFHOS9aR+Z4MeXHlr3Y71vX5ieUvc6XXbyZs29kmccf2VieIiGHwrhvrRtZMlppr930d33j5Bu2fEGnr7E4rxfiJ4m0R6Qq4slM2OuTHaLVtHMTCJ4j29bFo3xRi77ZI9615iPzy09CvgxdIpFM9ckUrzaefYG3Jua+PYrr3yRGS3tX5e7jtjD/ACnm9Rw54rmw3+ikz7xDpOk71d/Splj0vxxaPiQbQAAAAAAAAAAAAAAAAAAAAAAAAAAASckZel7mbPXFfNrZ57rRSObUt/r4eG9u/wApijT1MGW03mO696TWKR+10BN38ka3T51opkyXnH2xFa8p3hmm9qYvIy6dq0m0z3zP/HRgJXUdLe3r9kZ64cMT7RHMy+R0WL0rXY2suSsf4xPEKwCZm6p0/BedW31WrHHbFeWLpGhed/Y2fKnDrZI4jHP3/S55GHvm/l17p+/Hq9AS83QunTS1ow9npz9M8Oc6Bo5dnZ2qa+1lwVx29OPu7eY5jiXlh18OCbTix1pNp5niPcHnoYdjBh7NnN51on0txx6NIAAAAAAAAAAAAAAAAAAAAAAAAAAAAAAAAAAAAAAAAAAAAAAAAAAAAAAAAAAAAAAA/9k\n"
     ]
    }
   ],
   "source": [
    "import sys\n",
    "sys.path.append(\"..\")\n",
    "from Webscraping.DoScrape import DoScrape\n",
    "ws = DoScrape()\n",
    "ws.fakecaptcha_interaction(\"01234\")\n"
   ]
  },
  {
   "cell_type": "code",
   "execution_count": null,
   "metadata": {},
   "outputs": [],
   "source": [
    "\n"
   ]
  },
  {
   "cell_type": "code",
   "execution_count": null,
   "metadata": {},
   "outputs": [],
   "source": []
  }
 ],
 "metadata": {
  "kernelspec": {
   "display_name": "Python 3",
   "language": "python",
   "name": "python3"
  },
  "language_info": {
   "codemirror_mode": {
    "name": "ipython",
    "version": 3
   },
   "file_extension": ".py",
   "mimetype": "text/x-python",
   "name": "python",
   "nbconvert_exporter": "python",
   "pygments_lexer": "ipython3",
   "version": "3.7.6"
  }
 },
 "nbformat": 4,
 "nbformat_minor": 4
}
