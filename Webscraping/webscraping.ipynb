{
 "cells": [
  {
   "cell_type": "code",
   "execution_count": 5,
   "metadata": {},
   "outputs": [],
   "source": [
    "from selenium import webdriver\n"
   ]
  },
  {
   "cell_type": "code",
   "execution_count": 9,
   "metadata": {},
   "outputs": [
    {
     "name": "stdout",
     "output_type": "stream",
     "text": [
      "<!DOCTYPE html>\n",
      "<!--[if IE 8 ]><html class=\"ie ie8\" lang=\"en\"> <![endif]-->\n",
      "<!--[if IE 9 ]><html class=\"ie ie9\" lang=\"en\"> <![endif]-->\n",
      "<!--[if (gte IE 9)|!(IE)]><!-->\n",
      "<html lang=\"en\">\n",
      " <!--<![endif]-->\n",
      " <head>\n",
      "  <meta charset=\"utf-8\"/>\n",
      "  <title>\n",
      "   Fake Captcha - Generate Fake Captchas instantly for free\n",
      "  </title>\n",
      "  <meta content=\"\" name=\"description\"/>\n",
      "  <meta content=\"Sites Done Right, LLC\" name=\"author\"/>\n",
      "  <meta content=\"width=device-width, initial-scale=1, maximum-scale=1\" name=\"viewport\"/>\n",
      "  <link href=\"https://s3.amazonaws.com/i.fakecaptcha.com/assets/css/complete.css\" rel=\"stylesheet\"/>\n",
      "  <link href=\"https://fonts.googleapis.com/css?family=Lato:300,700,900,300italic\" rel=\"stylesheet\"/>\n",
      "  <link href=\"https://s3.amazonaws.com/i.fakecaptcha.com/assets/fake.png\" rel=\"shortcut icon\">\n",
      "   <!--[if IE]>\n",
      "  <script src=\"https://html5shiv.googlecode.com/svn/trunk/html5.js\"></script>\n",
      "  <![endif]-->\n",
      "   <script src=\"https://ajax.googleapis.com/ajax/libs/jquery/1.10.2/jquery.min.js\">\n",
      "   </script>\n",
      "  </link>\n",
      " </head>\n",
      " <body data-offset=\"83\" data-spy=\"scroll\" data-target=\".navbar\" id=\"home\">\n",
      "  <a class=\"scrollup\" href=\"#\">\n",
      "   <span aria-hidden=\"true\" data-icon=\"\">\n",
      "   </span>\n",
      "  </a>\n",
      "  <section id=\"header\">\n",
      "   <div class=\"navbar\">\n",
      "    <div class=\"container\">\n",
      "     <a class=\"navbar-toggle btn btn-large animated fadeInRight\" data-target=\".navbar-responsive-collapse\" data-toggle=\"collapse\" href=\"#\">\n",
      "      <span aria-hidden=\"true\" data-icon=\"\">\n",
      "      </span>\n",
      "     </a>\n",
      "     <a class=\"navbar\n"
     ]
    }
   ],
   "source": [
    "import bs4\n",
    "import requests\n",
    "import os\n",
    "import sys\n",
    "import shutil\n",
    "\n",
    "r = requests.get('https://fakecaptcha.com/')\n",
    "r.raise_for_status()\n",
    "soup = bs4.BeautifulSoup(r.text, 'html.parser')\n",
    "\n",
    "print(soup.prettify()[:1500])"
   ]
  },
  {
   "cell_type": "code",
   "execution_count": 1,
   "metadata": {},
   "outputs": [
    {
     "name": "stdout",
     "output_type": "stream",
     "text": [
      "OK\n",
      "/9j/4AAQSkZJRgABAQEASABIAAD/2wBDABYPERMRDhYTEhMZFxYaITckIR4eIUQwMyg3UEZUU09GTUxYY39sWF54X0xNbpZweIOHjpCOVmqcp5uKpn+Ljon/2wBDARcZGSEdIUEkJEGJW01biYmJiYmJiYmJiYmJiYmJiYmJiYmJiYmJiYmJiYmJiYmJiYmJiYmJiYmJiYmJiYmJiYn/wAARCAA5ASwDASIAAhEBAxEB/8QAGgABAAMBAQEAAAAAAAAAAAAAAAQFBgMBAv/EACsQAAICAgEDAwMDBQAAAAAAAAABAgMEBREGITESE0EUIlEVMmEjUnGhwf/EABQBAQAAAAAAAAAAAAAAAAAAAAD/xAAUEQEAAAAAAAAAAAAAAAAAAAAA/9oADAMBAAIRAxEAPwDXAAAA2kuW+EfKsg3wpxbf8gfQD7LllBs+qKMS50Y9byLF54fZAX55Oca4Oc5KMV3bfwZLC6ryZZkasrHjGMnx25TRa5tM9tmRxpKUcSv7p8dvW/wB7f1Lq6W177m1/ZHkk424wsnEsyYWNVV/uclxwRdrj63B1lilj1JeniK47tlb0lrY+1ZlXVySb+1PxwBcy3mDGn3ZSsVb8ScHwyTi7DEy+2PkQsf4T7mP6i29mW3i0VuFEHw2l5LvprVYmPRDLpm7LJx7vnwBfAgbba0aylTtfMn4ivLOmrzfr8OOR7bgpPsmBLAAAAAAAAAAAAAAAAAAAAAAAAAAAAAAAAAAGD6h2GVlbeeH7rqqjJRUeeF/lnXM6aycLE+qrzPXKC54Xb/ZrMjX4dtv1NuPCVkVz6mjLu3O6jz50VzdOJW+Gl+AO2Fsc3J6cv7SnZD7VL5aOfStEaK7svLoSjFcqc0afX4NWBixx6lzFeW/kh9R4tuTrXVRKMPuXq5fC4Apsav9b3iyoU+jGqf7uPJotlnV6+j1cczfaMV8s801FOPgV1UzjPhfc4v5Kzb05v61RfTjO+uEey57JgMbU37G5Zezk2vMavhF/CEa4KEElFdkkUNy6iyJtQ9nHg/55aJWqwtjTJyzc12L4ivAFhPEx7IShKmDUvPYy2NfLR763FUucazulz4LjPyNs5SrxMRJePXKRn5dPbbKy1fkuKbfLfICmEt/lZc7eZeiL9tL4NB0xapauNXP9SpuMk/KZzr6dqpasxr7KLWvucX2ZAydXs9XbPOxMhWvzOLXHIGqBS6bdX7Bffi+lLs5RfgugAAAAAAAAAAAAAAAAAAAAAAAAAAAAAAAAOOZZZVi2WU1+5ZGPKj+Sk6ezc/IyLI34MaavPqUPT3/AOmhAArd1rbNlRGqF7qSfL4+SyAEHU62vWY3tQk5N9238k4AAAAAAABpSTTXKYAEXDwMfCc3RD0+t8slAAAAAAAAAAAAAAAAAAAAAAAAAAAAAAAAAAAAAAAAAAAAAAAAAAAAAAAAAAAAAAAAAAAAAAAAAAAAAAAAAAf/2Q=\n"
     ]
    }
   ],
   "source": [
    "import sys\n",
    "sys.path.append(\"..\")\n",
    "from Webscraping.DoScrape import DoScrape\n",
    "ws = DoScrape()\n",
    "ws.fakecaptcha_interaction(\"01234\")\n"
   ]
  },
  {
   "cell_type": "code",
   "execution_count": null,
   "metadata": {},
   "outputs": [],
   "source": [
    "\n"
   ]
  },
  {
   "cell_type": "code",
   "execution_count": null,
   "metadata": {},
   "outputs": [],
   "source": []
  }
 ],
 "metadata": {
  "kernelspec": {
   "display_name": "Python 3",
   "language": "python",
   "name": "python3"
  },
  "language_info": {
   "codemirror_mode": {
    "name": "ipython",
    "version": 3
   },
   "file_extension": ".py",
   "mimetype": "text/x-python",
   "name": "python",
   "nbconvert_exporter": "python",
   "pygments_lexer": "ipython3",
   "version": "3.7.6"
  }
 },
 "nbformat": 4,
 "nbformat_minor": 4
}
