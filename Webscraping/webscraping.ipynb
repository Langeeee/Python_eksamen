{
 "cells": [
  {
   "cell_type": "code",
   "execution_count": 5,
   "metadata": {},
   "outputs": [],
   "source": [
    "from selenium import webdriver\n"
   ]
  },
  {
   "cell_type": "code",
   "execution_count": 9,
   "metadata": {},
   "outputs": [
    {
     "name": "stdout",
     "output_type": "stream",
     "text": [
      "<!DOCTYPE html>\n",
      "<!--[if IE 8 ]><html class=\"ie ie8\" lang=\"en\"> <![endif]-->\n",
      "<!--[if IE 9 ]><html class=\"ie ie9\" lang=\"en\"> <![endif]-->\n",
      "<!--[if (gte IE 9)|!(IE)]><!-->\n",
      "<html lang=\"en\">\n",
      " <!--<![endif]-->\n",
      " <head>\n",
      "  <meta charset=\"utf-8\"/>\n",
      "  <title>\n",
      "   Fake Captcha - Generate Fake Captchas instantly for free\n",
      "  </title>\n",
      "  <meta content=\"\" name=\"description\"/>\n",
      "  <meta content=\"Sites Done Right, LLC\" name=\"author\"/>\n",
      "  <meta content=\"width=device-width, initial-scale=1, maximum-scale=1\" name=\"viewport\"/>\n",
      "  <link href=\"https://s3.amazonaws.com/i.fakecaptcha.com/assets/css/complete.css\" rel=\"stylesheet\"/>\n",
      "  <link href=\"https://fonts.googleapis.com/css?family=Lato:300,700,900,300italic\" rel=\"stylesheet\"/>\n",
      "  <link href=\"https://s3.amazonaws.com/i.fakecaptcha.com/assets/fake.png\" rel=\"shortcut icon\">\n",
      "   <!--[if IE]>\n",
      "  <script src=\"https://html5shiv.googlecode.com/svn/trunk/html5.js\"></script>\n",
      "  <![endif]-->\n",
      "   <script src=\"https://ajax.googleapis.com/ajax/libs/jquery/1.10.2/jquery.min.js\">\n",
      "   </script>\n",
      "  </link>\n",
      " </head>\n",
      " <body data-offset=\"83\" data-spy=\"scroll\" data-target=\".navbar\" id=\"home\">\n",
      "  <a class=\"scrollup\" href=\"#\">\n",
      "   <span aria-hidden=\"true\" data-icon=\"\">\n",
      "   </span>\n",
      "  </a>\n",
      "  <section id=\"header\">\n",
      "   <div class=\"navbar\">\n",
      "    <div class=\"container\">\n",
      "     <a class=\"navbar-toggle btn btn-large animated fadeInRight\" data-target=\".navbar-responsive-collapse\" data-toggle=\"collapse\" href=\"#\">\n",
      "      <span aria-hidden=\"true\" data-icon=\"\">\n",
      "      </span>\n",
      "     </a>\n",
      "     <a class=\"navbar\n"
     ]
    }
   ],
   "source": [
    "import bs4\n",
    "import requests\n",
    "import os\n",
    "import sys\n",
    "import shutil\n",
    "\n",
    "r = requests.get('https://fakecaptcha.com/')\n",
    "r.raise_for_status()\n",
    "soup = bs4.BeautifulSoup(r.text, 'html.parser')\n",
    "\n",
    "print(soup.prettify()[:1500])"
   ]
  },
  {
   "cell_type": "code",
   "execution_count": 8,
   "metadata": {},
   "outputs": [],
   "source": [
    "# Selenium\n",
    "from selenium import webdriver\n",
    "import bs4\n",
    "import json\n",
    "\n",
    "url = 'https://fakecaptcha.com/'\n",
    "def fakecaptcha_interaction():\n",
    "    browser = webdriver.Firefox()\n",
    "    browser.get(url)\n",
    "    browser.implicitly_wait(3)\n",
    "    search_field = browser.find_element_by_name('captcha-create')\n",
    "    search_field.send_keys('123')\n",
    "    search_field.submit()\n",
    "    browser.implicitly_wait(10)\n",
    "    button = browser.find_element_by_xpath('/html/body/section[2]/div/div[2]/a')\n",
    "    button.click()\n",
    "    search_field = browser.find_element_by_id('proceed_link')\n",
    "    \n",
    "    \n"
   ]
  },
  {
   "cell_type": "code",
   "execution_count": null,
   "metadata": {},
   "outputs": [],
   "source": [
    "\n"
   ]
  },
  {
   "cell_type": "code",
   "execution_count": null,
   "metadata": {},
   "outputs": [],
   "source": []
  }
 ],
 "metadata": {
  "kernelspec": {
   "display_name": "Python 3",
   "language": "python",
   "name": "python3"
  },
  "language_info": {
   "codemirror_mode": {
    "name": "ipython",
    "version": 3
   },
   "file_extension": ".py",
   "mimetype": "text/x-python",
   "name": "python",
   "nbconvert_exporter": "python",
   "pygments_lexer": "ipython3",
   "version": "3.7.6"
  }
 },
 "nbformat": 4,
 "nbformat_minor": 4
}
